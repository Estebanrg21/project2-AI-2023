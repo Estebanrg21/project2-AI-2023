{
 "cells": [
  {
   "cell_type": "code",
   "execution_count": 35,
   "id": "f238e0a0-6700-45e0-9be3-3c1ab441a668",
   "metadata": {},
   "outputs": [],
   "source": [
    "from experta import *\n",
    "import random\n",
    "import re\n",
    "import copy"
   ]
  },
  {
   "cell_type": "code",
   "execution_count": 2,
   "id": "a87ce271-e41b-4c1a-833d-c1c1e115f20e",
   "metadata": {},
   "outputs": [],
   "source": [
    "enfermedades = {\n",
    "    \"Resfriado común\": [\"Congestión nasal\", \"Goteo nasal\", \"Estornudos\", \"Dolor de garganta\", \"Tos\", \"Fatiga leve\"],\n",
    "    \"Gripe (Influenza)\": [\"Fiebre alta\", \"Dolor de cabeza\", \"Dolores musculares y corporales\", \"Fatiga intensa\", \"Congestión nasal\", \"Tos seca\"],\n",
    "    \"Fiebre del dengue\": [\"Fiebre alta\", \"Dolor de cabeza severo\", \"Dolor detrás de los ojos\", \"Erupción cutánea\", \"Dolor articular y muscular\", \"Fatiga\"],\n",
    "    \"Diabetes tipo 2\": [\"Aumento de la sed\", \"Micción frecuente\", \"Fatiga\", \"Visión borrosa\", \"Heridas que sanan lentamente\", \"Pérdida de peso inexplicada\"],\n",
    "    \"Hipertensión arterial\": [\"Dolor de cabeza\", \"Visión borrosa\", \"Fatiga\", \"Mareos\", \"Sangrado nasal\", \"Zumbido en los oídos\"],\n",
    "    \"Enfermedad cardíaca coronaria\": [\"Dolor en el pecho (angina)\", \"Dificultad para respirar\", \"Fatiga\", \"Mareos\", \"Sudoración excesiva\", \"Náuseas\"],\n",
    "    \"Asma\": [\"Sibilancias\", \"Tos\", \"Dificultad para respirar\", \"Opresión en el pecho\", \"Respiración rápida y superficial\", \"Tos nocturna\"],\n",
    "    \"Enfermedad de Alzheimer\": [\"Pérdida de memoria a corto plazo\", \"Confusión\", \"Dificultad para recordar palabras\", \"Cambios en el comportamiento\", \"Dificultad para realizar tareas cotidianas\", \"Desorientación en tiempo y lugar\"],\n",
    "    \"Artritis reumatoide\": [\"Dolor e hinchazón en las articulaciones\", \"Rigidez matutina\", \"Fatiga\", \"Deformidades en las articulaciones\", \"Pérdida de apetito\", \"Fiebre leve\"],\n",
    "    \"Enfermedad de Crohn\": [\"Dolor abdominal\", \"Diarrea crónica\", \"Fatiga\", \"Pérdida de peso\", \"Fiebre\", \"Úlceras en el tracto digestivo\"]\n",
    "}"
   ]
  },
  {
   "cell_type": "code",
   "execution_count": 8,
   "id": "4848628f-c356-467a-815e-a55c914a846c",
   "metadata": {},
   "outputs": [],
   "source": [
    "all_symptoms = []\n",
    "for s_list in enfermedades.values():\n",
    "    all_symptoms = all_symptoms + s_list\n",
    "all_symptoms = list(set(all_symptoms))"
   ]
  },
  {
   "cell_type": "code",
   "execution_count": 56,
   "id": "21cdff9d-11d1-401f-9a7a-6c5ea9699a47",
   "metadata": {},
   "outputs": [],
   "source": [
    "def do_illness_choice(symptom):\n",
    "    have_symptom = []\n",
    "    for k, v in enfermedades.items():\n",
    "        for s in v:\n",
    "            if re.search(symptom, s, re.IGNORECASE):\n",
    "                have_symptom.append(k)\n",
    "    return random.choice(have_symptom), have_symptom"
   ]
  },
  {
   "cell_type": "code",
   "execution_count": 72,
   "id": "79b89b8d-4fa7-4a47-8995-6e6df92421b3",
   "metadata": {},
   "outputs": [],
   "source": [
    "def get_question(symptom):\n",
    "    return f\"¿Tiene {symptom}? (s/n)\"\n",
    "\n",
    "class IllnessRobot(KnowledgeEngine):\n",
    "    @DefFacts()\n",
    "    def _initial_action(self):\n",
    "        yield Fact(action=\"greet\")\n",
    "        \n",
    "    @Rule(Fact(action='greet'),\n",
    "          NOT(Fact(name=W())))\n",
    "    def do_welcome(self):\n",
    "        print(\"Bienvenido@ al chat de enfermedades, a continuación se presentará la primera pregunta\")\n",
    "        self.declare(Fact(introduced=True))\n",
    "        \n",
    "    @Rule(OR(Fact(introduced=True),Fact(answer=\"n\", symptom=W(), salt=W()), Fact(redo=W())))\n",
    "    def first_question(self):\n",
    "        symptom = random.choice(all_symptoms)\n",
    "        self.declare(Fact(answer=input(get_question(symptom)), symptom=symptom, salt=random.gauss(0,1)))\n",
    "        \n",
    "    @Rule(Fact(answer=\"s\", symptom=MATCH.symptom))\n",
    "    def do_first_illness_guess(self, symptom):\n",
    "        illness, illnesses = do_illness_choice(symptom)\n",
    "        symptoms = copy.deepcopy(enfermedades[illness])\n",
    "        symptoms.remove(symptom)\n",
    "        strikes = 0\n",
    "        self.declare(Fact(illness=illness, illnesses=illnesses, symptoms=symptoms, strikes=strikes, answer=\"s\"))\n",
    "\n",
    "    @Rule(Fact(illness=MATCH.illness, illnesses=MATCH.illnesses, symptoms=MATCH.symptoms, strikes=MATCH.strikes, answer=MATCH.answer))\n",
    "    def questions_engine(self, illness, illnesses, symptoms, strikes, answer):\n",
    "        strikes += 1 if answer == \"s\" else -1\n",
    "        if strikes == -4:\n",
    "            self.declare(Fact(redo=random.gauss(0,1)))\n",
    "        elif strikes == 4:\n",
    "            print(f\"Usted podría tener {illness}.\")\n",
    "        else:\n",
    "            if len(symptoms) == 0:\n",
    "                illnesses = list(illnesses)\n",
    "                illnesses.remove(illness)\n",
    "                if len(illnesses) > 0:\n",
    "                    print(f\"Usted podría tener síntomas para las enfermedades {', '.join(illnesses)}\")\n",
    "                else:\n",
    "                    print(f\"No se logró encontrar una enfermedad con los síntomas indicados\")\n",
    "            else:\n",
    "                symptoms = list(symptoms)\n",
    "                s_to_ask = random.choice(symptoms)\n",
    "                symptoms.remove(s_to_ask)\n",
    "                self.declare(Fact(illness=illness,illnesses=illnesses, symptoms=symptoms, strikes=strikes, answer=input(get_question(s_to_ask))))"
   ]
  },
  {
   "cell_type": "code",
   "execution_count": 76,
   "id": "6332f64b-5ea7-4af1-979b-e17a2dedb145",
   "metadata": {},
   "outputs": [
    {
     "name": "stdout",
     "output_type": "stream",
     "text": [
      "Bienvenido@ al chat de enfermedades, a continuación se presentará la primera pregunta\n"
     ]
    },
    {
     "name": "stdin",
     "output_type": "stream",
     "text": [
      "¿Tiene Tos seca? (s/n) n\n",
      "¿Tiene Tos nocturna? (s/n) n\n",
      "¿Tiene Confusión? (s/n) n\n",
      "¿Tiene Dolor articular y muscular? (s/n) n\n",
      "¿Tiene Deformidades en las articulaciones? (s/n) n\n",
      "¿Tiene Cambios en el comportamiento? (s/n) n\n",
      "¿Tiene Congestión nasal? (s/n) s\n",
      "¿Tiene Dolor de garganta? (s/n) n\n",
      "¿Tiene Tos? (s/n) n\n",
      "¿Tiene Goteo nasal? (s/n) n\n",
      "¿Tiene Fatiga leve? (s/n) n\n",
      "¿Tiene Estornudos? (s/n) n\n",
      "¿Tiene Respiración rápida y superficial? (s/n) n\n",
      "¿Tiene Pérdida de peso? (s/n) n\n",
      "¿Tiene Dolor de garganta? (s/n) n\n",
      "¿Tiene Dificultad para recordar palabras? (s/n) n\n",
      "¿Tiene Sibilancias? (s/n) n\n",
      "¿Tiene Fiebre leve? (s/n) n\n",
      "¿Tiene Dolores musculares y corporales? (s/n) n\n",
      "¿Tiene Pérdida de peso inexplicada? (s/n) n\n",
      "¿Tiene Dolor de garganta? (s/n) n\n",
      "¿Tiene Pérdida de peso inexplicada? (s/n) n\n",
      "¿Tiene Estornudos? (s/n) n\n",
      "¿Tiene Pérdida de memoria a corto plazo? (s/n) n\n",
      "¿Tiene Zumbido en los oídos? (s/n) n\n",
      "¿Tiene Fiebre? (s/n) s\n",
      "¿Tiene Diarrea crónica? (s/n) n\n",
      "¿Tiene Úlceras en el tracto digestivo? (s/n) s\n",
      "¿Tiene Dolor abdominal? (s/n) n\n",
      "¿Tiene Pérdida de peso? (s/n) s\n",
      "¿Tiene Fatiga? (s/n) n\n"
     ]
    },
    {
     "name": "stdout",
     "output_type": "stream",
     "text": [
      "Usted podría tener síntomas para las enfermedades Gripe (Influenza), Fiebre del dengue, Artritis reumatoide\n"
     ]
    }
   ],
   "source": [
    "engine = IllnessRobot()\n",
    "engine.reset()\n",
    "engine.run()"
   ]
  },
  {
   "cell_type": "code",
   "execution_count": null,
   "id": "fd4f2f40-baac-4d53-8bb9-5d5c3db982d4",
   "metadata": {},
   "outputs": [],
   "source": []
  }
 ],
 "metadata": {
  "kernelspec": {
   "display_name": "Python 3 (ipykernel)",
   "language": "python",
   "name": "python3"
  },
  "language_info": {
   "codemirror_mode": {
    "name": "ipython",
    "version": 3
   },
   "file_extension": ".py",
   "mimetype": "text/x-python",
   "name": "python",
   "nbconvert_exporter": "python",
   "pygments_lexer": "ipython3",
   "version": "3.10.7"
  }
 },
 "nbformat": 4,
 "nbformat_minor": 5
}
